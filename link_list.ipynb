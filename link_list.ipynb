{
 "cells": [
  {
   "cell_type": "code",
   "execution_count": 2,
   "metadata": {
    "collapsed": true
   },
   "outputs": [],
   "source": [
    "import pandas as pd\n",
    "from itertools import permutations"
   ]
  },
  {
   "cell_type": "code",
   "execution_count": 9,
   "outputs": [],
   "source": [
    "# ROUTES - DAYTIME\n",
    "df = pd.read_csv(\"routes_and_stops_daytime.csv\")"
   ],
   "metadata": {
    "collapsed": false,
    "pycharm": {
     "name": "#%%\n"
    }
   }
  },
  {
   "cell_type": "code",
   "execution_count": 10,
   "outputs": [],
   "source": [
    "linked_list = pd.DataFrame(columns=['route_1','route_2'])\n",
    "\n",
    "l = []\n",
    "for i in range(len(df)):\n",
    "    if df.iloc[i,1] == df.iloc[i-1,1]: # We check whether the previous stop name is the same as the current.\n",
    "        l.append(df.iloc[i,0])         # If it is, we append the route ID to a list\n",
    "    else:                              # If it isn't we append all possible permutations of the list to the link list, and reset the list\n",
    "        linked_list = linked_list.append(pd.DataFrame(data=list(permutations(l,2)),columns=['route_1','route_2']))\n",
    "        l = []\n",
    "        l.append(df.iloc[i,0])"
   ],
   "metadata": {
    "collapsed": false,
    "pycharm": {
     "name": "#%%\n"
    }
   }
  },
  {
   "cell_type": "code",
   "execution_count": 11,
   "outputs": [],
   "source": [
    "linked_list.to_csv('route_links_daytime.csv', index=False)"
   ],
   "metadata": {
    "collapsed": false,
    "pycharm": {
     "name": "#%%\n"
    }
   }
  },
  {
   "cell_type": "code",
   "execution_count": 12,
   "outputs": [],
   "source": [
    "#-----------------------------------------------------------\n",
    "# ROUTES - NIGHTTIME\n",
    "df = pd.read_csv(\"routes_and_stops_nighttime.csv\")"
   ],
   "metadata": {
    "collapsed": false,
    "pycharm": {
     "name": "#%%\n"
    }
   }
  },
  {
   "cell_type": "code",
   "execution_count": 13,
   "outputs": [],
   "source": [
    "linked_list = pd.DataFrame(columns=['route_1','route_2'])\n",
    "\n",
    "l = []\n",
    "for i in range(len(df)):\n",
    "    if df.iloc[i,1] == df.iloc[i-1,1]: # We check whether the previous stop name is the same as the current.\n",
    "        l.append(df.iloc[i,0])         # If it is, we append the route ID to a list\n",
    "    else:                              # If it isn't we append all possible permutations of the list to the link list, and reset the list\n",
    "        linked_list = linked_list.append(pd.DataFrame(data=list(permutations(l,2)),columns=['route_1','route_2']))\n",
    "        l = []\n",
    "        l.append(df.iloc[i,0])"
   ],
   "metadata": {
    "collapsed": false,
    "pycharm": {
     "name": "#%%\n"
    }
   }
  },
  {
   "cell_type": "code",
   "execution_count": 14,
   "outputs": [],
   "source": [
    "linked_list.to_csv('route_links_nighttime.csv', index=False)"
   ],
   "metadata": {
    "collapsed": false,
    "pycharm": {
     "name": "#%%\n"
    }
   }
  },
  {
   "cell_type": "code",
   "execution_count": 3,
   "outputs": [],
   "source": [
    "#-----------------------------------------------------------\n",
    "# STOPS - DAYTIME\n",
    "df = pd.read_csv(\"routes_and_stops_daytime_2.csv\")"
   ],
   "metadata": {
    "collapsed": false,
    "pycharm": {
     "name": "#%%\n"
    }
   }
  },
  {
   "cell_type": "code",
   "execution_count": 4,
   "outputs": [],
   "source": [
    "linked_list = pd.DataFrame(columns=['stop_1','stop_2'])\n",
    "\n",
    "l = []\n",
    "for i in range(len(df)):\n",
    "    if df.iloc[i,0] == df.iloc[i-1,0]: # We check whether the previous stop ID is the same as the current.\n",
    "        l.append(df.iloc[i,1])         # If it is, we append the route ID to a list\n",
    "    else:                              # If it isn't we append all possible permutations of the list to the link list, and reset the list\n",
    "        linked_list = linked_list.append(pd.DataFrame(data=list(permutations(l,2)),columns=['stop_1','stop_2']))\n",
    "        l = []\n",
    "        l.append(df.iloc[i,1])"
   ],
   "metadata": {
    "collapsed": false,
    "pycharm": {
     "name": "#%%\n"
    }
   }
  },
  {
   "cell_type": "code",
   "execution_count": 5,
   "outputs": [],
   "source": [
    "linked_list.to_csv('stop_links_daytime.csv', index=False)"
   ],
   "metadata": {
    "collapsed": false,
    "pycharm": {
     "name": "#%%\n"
    }
   }
  },
  {
   "cell_type": "code",
   "execution_count": null,
   "outputs": [],
   "source": [
    "\n"
   ],
   "metadata": {
    "collapsed": false,
    "pycharm": {
     "name": "#%%\n"
    }
   }
  }
 ],
 "metadata": {
  "kernelspec": {
   "display_name": "Python 3",
   "language": "python",
   "name": "python3"
  },
  "language_info": {
   "codemirror_mode": {
    "name": "ipython",
    "version": 2
   },
   "file_extension": ".py",
   "mimetype": "text/x-python",
   "name": "python",
   "nbconvert_exporter": "python",
   "pygments_lexer": "ipython2",
   "version": "2.7.6"
  }
 },
 "nbformat": 4,
 "nbformat_minor": 0
}